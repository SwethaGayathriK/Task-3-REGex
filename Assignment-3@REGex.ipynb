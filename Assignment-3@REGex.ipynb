{
 "cells": [
  {
   "cell_type": "markdown",
   "id": "618f2c97",
   "metadata": {},
   "source": [
    "# Task 3"
   ]
  },
  {
   "cell_type": "markdown",
   "id": "ccac76d7",
   "metadata": {},
   "source": [
    "Referral Id: AIRSS1200"
   ]
  },
  {
   "cell_type": "markdown",
   "id": "fa41ee46",
   "metadata": {},
   "source": [
    "Swetha Gayathri Kuchimanchi"
   ]
  },
  {
   "cell_type": "markdown",
   "id": "dffd6866",
   "metadata": {},
   "source": [
    "Q1. Write a function to return nth term of Fibonacci sequence."
   ]
  },
  {
   "cell_type": "code",
   "execution_count": 6,
   "id": "cd370b1f",
   "metadata": {},
   "outputs": [
    {
     "name": "stdout",
     "output_type": "stream",
     "text": [
      "8\n"
     ]
    }
   ],
   "source": [
    "def Fibonacci(n): \n",
    "    if n<0: \n",
    "        print(\"Incorrect input\") \n",
    "    # First Fibonacci number is 0 \n",
    "    elif n==0: \n",
    "        return (0) \n",
    "    # Second Fibonacci number is 1 \n",
    "    elif n==1: \n",
    "        return (1)\n",
    "    else: \n",
    "        return (Fibonacci(n-1)+Fibonacci(n-2)) \n",
    "print(Fibonacci(6))"
   ]
  },
  {
   "cell_type": "markdown",
   "id": "c82bc836",
   "metadata": {},
   "source": [
    "Q2. Write a function to find out GCD of two numbers using EUCLID'S algorithm."
   ]
  },
  {
   "cell_type": "code",
   "execution_count": 9,
   "id": "bad92e8b",
   "metadata": {},
   "outputs": [
    {
     "name": "stdout",
     "output_type": "stream",
     "text": [
      "GCD of 88 and 24 is 8\n"
     ]
    }
   ],
   "source": [
    "def gcd(a, b):\n",
    "    if (a == 0):\n",
    "        return b\n",
    "    if (b == 0):\n",
    "        return a\n",
    "    if (a == b):\n",
    "        return a\n",
    "    if (a > b):\n",
    "        return gcd(a-b, b)\n",
    "    return gcd(a, b-a)\n",
    "a = 88\n",
    "b = 24\n",
    "if(gcd(a, b)):\n",
    "    print('GCD of', a, 'and', b, 'is', gcd(a, b))\n",
    "else:\n",
    "    print('not found')\n"
   ]
  },
  {
   "cell_type": "markdown",
   "id": "d6e07c89",
   "metadata": {},
   "source": [
    "Q3. Write a function to find LCM of two number in most optimizers way."
   ]
  },
  {
   "cell_type": "code",
   "execution_count": 11,
   "id": "0d800c29",
   "metadata": {},
   "outputs": [
    {
     "name": "stdout",
     "output_type": "stream",
     "text": [
      "LCM of 8 and 6 is 24\n"
     ]
    }
   ],
   "source": [
    "import sys\n",
    "def findLCM(a, b):\n",
    "    large = max(a, b)\n",
    "    small = min(a, b)\n",
    "    i = large\n",
    "    while(1) :\n",
    "        if (i % small == 0):\n",
    "            return i\n",
    "        i += large\n",
    "a = 8\n",
    "b = 6\n",
    "print(\"LCM of \" , a , \" and \",b , \" is \" ,findLCM(a, b), sep = \"\")"
   ]
  }
 ],
 "metadata": {
  "kernelspec": {
   "display_name": "Python 3 (ipykernel)",
   "language": "python",
   "name": "python3"
  },
  "language_info": {
   "codemirror_mode": {
    "name": "ipython",
    "version": 3
   },
   "file_extension": ".py",
   "mimetype": "text/x-python",
   "name": "python",
   "nbconvert_exporter": "python",
   "pygments_lexer": "ipython3",
   "version": "3.9.5"
  }
 },
 "nbformat": 4,
 "nbformat_minor": 5
}
